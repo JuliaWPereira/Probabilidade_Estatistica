{
  "nbformat": 4,
  "nbformat_minor": 0,
  "metadata": {
    "colab": {
      "name": "Prob.ipynb",
      "provenance": [],
      "collapsed_sections": [],
      "toc_visible": true,
      "include_colab_link": true
    },
    "kernelspec": {
      "name": "python3",
      "display_name": "Python 3"
    },
    "language_info": {
      "name": "python"
    }
  },
  "cells": [
    {
      "cell_type": "markdown",
      "metadata": {
        "id": "view-in-github",
        "colab_type": "text"
      },
      "source": [
        "<a href=\"https://colab.research.google.com/github/JuliaWPereira/Probabilidade_Estatistica/blob/master/Prob.ipynb\" target=\"_parent\"><img src=\"https://colab.research.google.com/assets/colab-badge.svg\" alt=\"Open In Colab\"/></a>"
      ]
    },
    {
      "cell_type": "markdown",
      "metadata": {
        "id": "K5nC2cOJ56_L"
      },
      "source": [
        "#Atividade - 1 análise do questionário da UNIFESP, diciplina Probabilidade e Estatística."
      ]
    },
    {
      "cell_type": "markdown",
      "metadata": {
        "id": "z2kbPcH6Aw8p"
      },
      "source": [
        "# 1 - Importação das bibliotecas necessárias para a confecção da atividade.\n",
        "\n",
        "\n",
        "\n",
        "1.   **Numpy:** Tratamento de Listas\n",
        "2.   **Pandas:** Manipulação de *dataframes*\n",
        "3.   **Matplotlib:** Geração de gráficos\n",
        "\n"
      ]
    },
    {
      "cell_type": "code",
      "metadata": {
        "id": "6etuDLaj1S7r"
      },
      "source": [
        "import numpy as np\n",
        "import pandas as pd\n",
        "import matplotlib.pyplot as plt"
      ],
      "execution_count": null,
      "outputs": []
    },
    {
      "cell_type": "markdown",
      "metadata": {
        "id": "zxCVe2bU6ati"
      },
      "source": [
        "# 2 - Tratando os dados a partir do CSV."
      ]
    },
    {
      "cell_type": "markdown",
      "metadata": {
        "id": "zxMOPlMXBh4G"
      },
      "source": [
        "#2.1 - Leitura do csv utilizando pandas."
      ]
    },
    {
      "cell_type": "code",
      "metadata": {
        "colab": {
          "base_uri": "https://localhost:8080/",
          "height": 1000
        },
        "id": "st1WRM5V1fXo",
        "outputId": "7af9d21d-d564-416d-8afa-a0e4d1ea5b49"
      },
      "source": [
        "df_alunos = pd.read_csv(\"Tabela_Questionario.csv\",sep=\";\")\n",
        "df_alunos"
      ],
      "execution_count": null,
      "outputs": [
        {
          "output_type": "execute_result",
          "data": {
            "text/html": [
              "<div>\n",
              "<style scoped>\n",
              "    .dataframe tbody tr th:only-of-type {\n",
              "        vertical-align: middle;\n",
              "    }\n",
              "\n",
              "    .dataframe tbody tr th {\n",
              "        vertical-align: top;\n",
              "    }\n",
              "\n",
              "    .dataframe thead th {\n",
              "        text-align: right;\n",
              "    }\n",
              "</style>\n",
              "<table border=\"1\" class=\"dataframe\">\n",
              "  <thead>\n",
              "    <tr style=\"text-align: right;\">\n",
              "      <th></th>\n",
              "      <th>Número</th>\n",
              "      <th>Região de Procedência</th>\n",
              "      <th>Sexo</th>\n",
              "      <th>Estado Civil</th>\n",
              "      <th>Número de Filhos</th>\n",
              "      <th>Idade</th>\n",
              "      <th>Altura</th>\n",
              "      <th>Peso</th>\n",
              "      <th>Após a conclusão do BCT, você pretende fazer?</th>\n",
              "    </tr>\n",
              "  </thead>\n",
              "  <tbody>\n",
              "    <tr>\n",
              "      <th>0</th>\n",
              "      <td>1</td>\n",
              "      <td>Outros municípios do estado de São Paulo</td>\n",
              "      <td>F</td>\n",
              "      <td>Solteiro</td>\n",
              "      <td>0</td>\n",
              "      <td>18</td>\n",
              "      <td>163</td>\n",
              "      <td>51</td>\n",
              "      <td>Bacharelado em Ciência da Computação</td>\n",
              "    </tr>\n",
              "    <tr>\n",
              "      <th>1</th>\n",
              "      <td>2</td>\n",
              "      <td>Outros municípios do estado de São Paulo</td>\n",
              "      <td>F</td>\n",
              "      <td>Solteiro</td>\n",
              "      <td>0</td>\n",
              "      <td>21</td>\n",
              "      <td>150</td>\n",
              "      <td>44</td>\n",
              "      <td>Engenharia da Computação</td>\n",
              "    </tr>\n",
              "    <tr>\n",
              "      <th>2</th>\n",
              "      <td>3</td>\n",
              "      <td>São José dos Campos</td>\n",
              "      <td>M</td>\n",
              "      <td>Solteiro</td>\n",
              "      <td>0</td>\n",
              "      <td>21</td>\n",
              "      <td>178</td>\n",
              "      <td>71</td>\n",
              "      <td>Bacharelado em Ciência da Computação</td>\n",
              "    </tr>\n",
              "    <tr>\n",
              "      <th>3</th>\n",
              "      <td>4</td>\n",
              "      <td>Vale do Paraíba (com exceção de SJC)</td>\n",
              "      <td>M</td>\n",
              "      <td>Solteiro</td>\n",
              "      <td>0</td>\n",
              "      <td>19</td>\n",
              "      <td>180</td>\n",
              "      <td>65</td>\n",
              "      <td>Engenharia da Computação</td>\n",
              "    </tr>\n",
              "    <tr>\n",
              "      <th>4</th>\n",
              "      <td>5</td>\n",
              "      <td>Vale do Paraíba (com exceção de SJC)</td>\n",
              "      <td>M</td>\n",
              "      <td>Solteiro</td>\n",
              "      <td>0</td>\n",
              "      <td>20</td>\n",
              "      <td>171</td>\n",
              "      <td>69</td>\n",
              "      <td>Mercado de Trabalho</td>\n",
              "    </tr>\n",
              "    <tr>\n",
              "      <th>5</th>\n",
              "      <td>6</td>\n",
              "      <td>Outros municípios do estado de São Paulo</td>\n",
              "      <td>M</td>\n",
              "      <td>Solteiro</td>\n",
              "      <td>0</td>\n",
              "      <td>22</td>\n",
              "      <td>180</td>\n",
              "      <td>88</td>\n",
              "      <td>Engenharia de Materiais</td>\n",
              "    </tr>\n",
              "    <tr>\n",
              "      <th>6</th>\n",
              "      <td>7</td>\n",
              "      <td>São José dos Campos</td>\n",
              "      <td>M</td>\n",
              "      <td>Solteiro</td>\n",
              "      <td>0</td>\n",
              "      <td>19</td>\n",
              "      <td>162</td>\n",
              "      <td>43</td>\n",
              "      <td>Engenharia de Materiais</td>\n",
              "    </tr>\n",
              "    <tr>\n",
              "      <th>7</th>\n",
              "      <td>8</td>\n",
              "      <td>São José dos Campos</td>\n",
              "      <td>M</td>\n",
              "      <td>Solteiro</td>\n",
              "      <td>0</td>\n",
              "      <td>18</td>\n",
              "      <td>180</td>\n",
              "      <td>66</td>\n",
              "      <td>Engenharia de Materiais</td>\n",
              "    </tr>\n",
              "    <tr>\n",
              "      <th>8</th>\n",
              "      <td>9</td>\n",
              "      <td>Vale do Paraíba (com exceção de SJC)</td>\n",
              "      <td>M</td>\n",
              "      <td>Solteiro</td>\n",
              "      <td>0</td>\n",
              "      <td>24</td>\n",
              "      <td>177</td>\n",
              "      <td>124</td>\n",
              "      <td>Bacharelado em Ciência da Computação</td>\n",
              "    </tr>\n",
              "    <tr>\n",
              "      <th>9</th>\n",
              "      <td>10</td>\n",
              "      <td>Vale do Paraíba (com exceção de SJC)</td>\n",
              "      <td>F</td>\n",
              "      <td>Casado</td>\n",
              "      <td>2</td>\n",
              "      <td>23</td>\n",
              "      <td>165</td>\n",
              "      <td>76</td>\n",
              "      <td>Engenharia de Materiais</td>\n",
              "    </tr>\n",
              "    <tr>\n",
              "      <th>10</th>\n",
              "      <td>11</td>\n",
              "      <td>Outros municípios do estado de São Paulo</td>\n",
              "      <td>M</td>\n",
              "      <td>Solteiro</td>\n",
              "      <td>0</td>\n",
              "      <td>20</td>\n",
              "      <td>168</td>\n",
              "      <td>100</td>\n",
              "      <td>Engenharia da Computação</td>\n",
              "    </tr>\n",
              "    <tr>\n",
              "      <th>11</th>\n",
              "      <td>12</td>\n",
              "      <td>São José dos Campos</td>\n",
              "      <td>F</td>\n",
              "      <td>Solteiro</td>\n",
              "      <td>0</td>\n",
              "      <td>22</td>\n",
              "      <td>159</td>\n",
              "      <td>50</td>\n",
              "      <td>Engenharia de Materiais</td>\n",
              "    </tr>\n",
              "    <tr>\n",
              "      <th>12</th>\n",
              "      <td>13</td>\n",
              "      <td>Outros municípios do estado de São Paulo</td>\n",
              "      <td>M</td>\n",
              "      <td>Solteiro</td>\n",
              "      <td>0</td>\n",
              "      <td>27</td>\n",
              "      <td>171</td>\n",
              "      <td>74</td>\n",
              "      <td>Mercado de Trabalho</td>\n",
              "    </tr>\n",
              "    <tr>\n",
              "      <th>13</th>\n",
              "      <td>14</td>\n",
              "      <td>São José dos Campos</td>\n",
              "      <td>F</td>\n",
              "      <td>Solteiro</td>\n",
              "      <td>0</td>\n",
              "      <td>20</td>\n",
              "      <td>166</td>\n",
              "      <td>55</td>\n",
              "      <td>Engenharia de Materiais</td>\n",
              "    </tr>\n",
              "    <tr>\n",
              "      <th>14</th>\n",
              "      <td>15</td>\n",
              "      <td>São José dos Campos</td>\n",
              "      <td>M</td>\n",
              "      <td>Solteiro</td>\n",
              "      <td>0</td>\n",
              "      <td>20</td>\n",
              "      <td>180</td>\n",
              "      <td>70</td>\n",
              "      <td>Engenharia da Computação</td>\n",
              "    </tr>\n",
              "    <tr>\n",
              "      <th>15</th>\n",
              "      <td>16</td>\n",
              "      <td>Vale do Paraíba (com exceção de SJC)</td>\n",
              "      <td>M</td>\n",
              "      <td>Solteiro</td>\n",
              "      <td>1</td>\n",
              "      <td>23</td>\n",
              "      <td>167</td>\n",
              "      <td>65</td>\n",
              "      <td>Bacharelado em Matemática Computacional</td>\n",
              "    </tr>\n",
              "    <tr>\n",
              "      <th>16</th>\n",
              "      <td>17</td>\n",
              "      <td>São José dos Campos</td>\n",
              "      <td>F</td>\n",
              "      <td>Solteiro</td>\n",
              "      <td>0</td>\n",
              "      <td>18</td>\n",
              "      <td>168</td>\n",
              "      <td>53</td>\n",
              "      <td>Engenharia de Materiais</td>\n",
              "    </tr>\n",
              "    <tr>\n",
              "      <th>17</th>\n",
              "      <td>18</td>\n",
              "      <td>Outros municípios do estado de São Paulo</td>\n",
              "      <td>M</td>\n",
              "      <td>Solteiro</td>\n",
              "      <td>0</td>\n",
              "      <td>19</td>\n",
              "      <td>167</td>\n",
              "      <td>60</td>\n",
              "      <td>Engenharia da Computação</td>\n",
              "    </tr>\n",
              "    <tr>\n",
              "      <th>18</th>\n",
              "      <td>19</td>\n",
              "      <td>Vale do Paraíba (com exceção de SJC)</td>\n",
              "      <td>F</td>\n",
              "      <td>Solteiro</td>\n",
              "      <td>0</td>\n",
              "      <td>20</td>\n",
              "      <td>160</td>\n",
              "      <td>47</td>\n",
              "      <td>Ainda estou indeciso(a)</td>\n",
              "    </tr>\n",
              "    <tr>\n",
              "      <th>19</th>\n",
              "      <td>20</td>\n",
              "      <td>São José dos Campos</td>\n",
              "      <td>M</td>\n",
              "      <td>Casado</td>\n",
              "      <td>1</td>\n",
              "      <td>35</td>\n",
              "      <td>186</td>\n",
              "      <td>100</td>\n",
              "      <td>Engenharia de Materiais</td>\n",
              "    </tr>\n",
              "    <tr>\n",
              "      <th>20</th>\n",
              "      <td>21</td>\n",
              "      <td>São José dos Campos</td>\n",
              "      <td>M</td>\n",
              "      <td>Solteiro</td>\n",
              "      <td>0</td>\n",
              "      <td>19</td>\n",
              "      <td>185</td>\n",
              "      <td>95</td>\n",
              "      <td>Ainda estou indeciso(a)</td>\n",
              "    </tr>\n",
              "    <tr>\n",
              "      <th>21</th>\n",
              "      <td>22</td>\n",
              "      <td>Vale do Paraíba (com exceção de SJC)</td>\n",
              "      <td>F</td>\n",
              "      <td>Solteiro</td>\n",
              "      <td>0</td>\n",
              "      <td>20</td>\n",
              "      <td>167</td>\n",
              "      <td>58</td>\n",
              "      <td>Engenharia Biomédica</td>\n",
              "    </tr>\n",
              "    <tr>\n",
              "      <th>22</th>\n",
              "      <td>23</td>\n",
              "      <td>São José dos Campos</td>\n",
              "      <td>F</td>\n",
              "      <td>Solteiro</td>\n",
              "      <td>0</td>\n",
              "      <td>24</td>\n",
              "      <td>152</td>\n",
              "      <td>47</td>\n",
              "      <td>Ainda estou indeciso(a)</td>\n",
              "    </tr>\n",
              "    <tr>\n",
              "      <th>23</th>\n",
              "      <td>24</td>\n",
              "      <td>Outros estados da região sudeste</td>\n",
              "      <td>M</td>\n",
              "      <td>Solteiro</td>\n",
              "      <td>0</td>\n",
              "      <td>18</td>\n",
              "      <td>194</td>\n",
              "      <td>70</td>\n",
              "      <td>Engenharia Biomédica</td>\n",
              "    </tr>\n",
              "    <tr>\n",
              "      <th>24</th>\n",
              "      <td>25</td>\n",
              "      <td>Vale do Paraíba (com exceção de SJC)</td>\n",
              "      <td>F</td>\n",
              "      <td>Casado</td>\n",
              "      <td>1</td>\n",
              "      <td>31</td>\n",
              "      <td>169</td>\n",
              "      <td>57</td>\n",
              "      <td>Ainda estou indeciso(a)</td>\n",
              "    </tr>\n",
              "    <tr>\n",
              "      <th>25</th>\n",
              "      <td>26</td>\n",
              "      <td>São José dos Campos</td>\n",
              "      <td>M</td>\n",
              "      <td>Casado</td>\n",
              "      <td>0</td>\n",
              "      <td>24</td>\n",
              "      <td>172</td>\n",
              "      <td>67</td>\n",
              "      <td>Bacharelado em Matemática Computacional</td>\n",
              "    </tr>\n",
              "    <tr>\n",
              "      <th>26</th>\n",
              "      <td>27</td>\n",
              "      <td>Vale do Paraíba (com exceção de SJC)</td>\n",
              "      <td>M</td>\n",
              "      <td>Solteiro</td>\n",
              "      <td>0</td>\n",
              "      <td>23</td>\n",
              "      <td>179</td>\n",
              "      <td>70</td>\n",
              "      <td>Engenharia de Materiais</td>\n",
              "    </tr>\n",
              "    <tr>\n",
              "      <th>27</th>\n",
              "      <td>28</td>\n",
              "      <td>Outros municípios do estado de São Paulo</td>\n",
              "      <td>M</td>\n",
              "      <td>Solteiro</td>\n",
              "      <td>1</td>\n",
              "      <td>20</td>\n",
              "      <td>180</td>\n",
              "      <td>82</td>\n",
              "      <td>Engenharia da Computação</td>\n",
              "    </tr>\n",
              "    <tr>\n",
              "      <th>28</th>\n",
              "      <td>29</td>\n",
              "      <td>São José dos Campos</td>\n",
              "      <td>F</td>\n",
              "      <td>Solteiro</td>\n",
              "      <td>0</td>\n",
              "      <td>21</td>\n",
              "      <td>153</td>\n",
              "      <td>52</td>\n",
              "      <td>Ainda estou indeciso(a)</td>\n",
              "    </tr>\n",
              "    <tr>\n",
              "      <th>29</th>\n",
              "      <td>30</td>\n",
              "      <td>Outros municípios do estado de São Paulo</td>\n",
              "      <td>M</td>\n",
              "      <td>Solteiro</td>\n",
              "      <td>0</td>\n",
              "      <td>22</td>\n",
              "      <td>175</td>\n",
              "      <td>85</td>\n",
              "      <td>Ainda estou indeciso(a)</td>\n",
              "    </tr>\n",
              "    <tr>\n",
              "      <th>30</th>\n",
              "      <td>31</td>\n",
              "      <td>Vale do Paraíba (com exceção de SJC)</td>\n",
              "      <td>M</td>\n",
              "      <td>Solteiro</td>\n",
              "      <td>0</td>\n",
              "      <td>20</td>\n",
              "      <td>179</td>\n",
              "      <td>80</td>\n",
              "      <td>Engenharia de Materiais</td>\n",
              "    </tr>\n",
              "    <tr>\n",
              "      <th>31</th>\n",
              "      <td>32</td>\n",
              "      <td>São José dos Campos</td>\n",
              "      <td>F</td>\n",
              "      <td>Solteiro</td>\n",
              "      <td>0</td>\n",
              "      <td>20</td>\n",
              "      <td>160</td>\n",
              "      <td>55</td>\n",
              "      <td>Engenharia da Computação</td>\n",
              "    </tr>\n",
              "    <tr>\n",
              "      <th>32</th>\n",
              "      <td>33</td>\n",
              "      <td>São José dos Campos</td>\n",
              "      <td>M</td>\n",
              "      <td>Solteiro</td>\n",
              "      <td>0</td>\n",
              "      <td>23</td>\n",
              "      <td>184</td>\n",
              "      <td>85</td>\n",
              "      <td>Bacharelado em Matemática Computacional</td>\n",
              "    </tr>\n",
              "    <tr>\n",
              "      <th>33</th>\n",
              "      <td>34</td>\n",
              "      <td>Vale do Paraíba (com exceção de SJC)</td>\n",
              "      <td>M</td>\n",
              "      <td>Solteiro</td>\n",
              "      <td>0</td>\n",
              "      <td>18</td>\n",
              "      <td>180</td>\n",
              "      <td>86</td>\n",
              "      <td>Engenharia de Materiais</td>\n",
              "    </tr>\n",
              "    <tr>\n",
              "      <th>34</th>\n",
              "      <td>35</td>\n",
              "      <td>Outros estados da região sudeste</td>\n",
              "      <td>F</td>\n",
              "      <td>Casado</td>\n",
              "      <td>2</td>\n",
              "      <td>23</td>\n",
              "      <td>159</td>\n",
              "      <td>62</td>\n",
              "      <td>Engenharia da Computação</td>\n",
              "    </tr>\n",
              "    <tr>\n",
              "      <th>35</th>\n",
              "      <td>36</td>\n",
              "      <td>São José dos Campos</td>\n",
              "      <td>M</td>\n",
              "      <td>Casado</td>\n",
              "      <td>0</td>\n",
              "      <td>22</td>\n",
              "      <td>178</td>\n",
              "      <td>79</td>\n",
              "      <td>Bacharelado em Ciência da Computação</td>\n",
              "    </tr>\n",
              "    <tr>\n",
              "      <th>36</th>\n",
              "      <td>37</td>\n",
              "      <td>Outros estados da região sudeste</td>\n",
              "      <td>F</td>\n",
              "      <td>Solteiro</td>\n",
              "      <td>1</td>\n",
              "      <td>22</td>\n",
              "      <td>158</td>\n",
              "      <td>59</td>\n",
              "      <td>Engenharia da Computação</td>\n",
              "    </tr>\n",
              "    <tr>\n",
              "      <th>37</th>\n",
              "      <td>38</td>\n",
              "      <td>Outros estados da região sudeste</td>\n",
              "      <td>M</td>\n",
              "      <td>Solteiro</td>\n",
              "      <td>0</td>\n",
              "      <td>21</td>\n",
              "      <td>170</td>\n",
              "      <td>80</td>\n",
              "      <td>Mercado de Trabalho</td>\n",
              "    </tr>\n",
              "    <tr>\n",
              "      <th>38</th>\n",
              "      <td>39</td>\n",
              "      <td>São José dos Campos</td>\n",
              "      <td>F</td>\n",
              "      <td>Solteiro</td>\n",
              "      <td>0</td>\n",
              "      <td>20</td>\n",
              "      <td>162</td>\n",
              "      <td>58</td>\n",
              "      <td>Engenharia de Materiais</td>\n",
              "    </tr>\n",
              "    <tr>\n",
              "      <th>39</th>\n",
              "      <td>40</td>\n",
              "      <td>São José dos Campos</td>\n",
              "      <td>M</td>\n",
              "      <td>Solteiro</td>\n",
              "      <td>0</td>\n",
              "      <td>22</td>\n",
              "      <td>168</td>\n",
              "      <td>75</td>\n",
              "      <td>Engenharia da Computação</td>\n",
              "    </tr>\n",
              "    <tr>\n",
              "      <th>40</th>\n",
              "      <td>41</td>\n",
              "      <td>São José dos Campos</td>\n",
              "      <td>F</td>\n",
              "      <td>Solteiro</td>\n",
              "      <td>0</td>\n",
              "      <td>19</td>\n",
              "      <td>169</td>\n",
              "      <td>64</td>\n",
              "      <td>Bacharelado em Ciência da Computação</td>\n",
              "    </tr>\n",
              "    <tr>\n",
              "      <th>41</th>\n",
              "      <td>42</td>\n",
              "      <td>Outros municípios do estado de São Paulo</td>\n",
              "      <td>M</td>\n",
              "      <td>Solteiro</td>\n",
              "      <td>0</td>\n",
              "      <td>18</td>\n",
              "      <td>175</td>\n",
              "      <td>85</td>\n",
              "      <td>Engenharia Biomédica</td>\n",
              "    </tr>\n",
              "    <tr>\n",
              "      <th>42</th>\n",
              "      <td>43</td>\n",
              "      <td>São José dos Campos</td>\n",
              "      <td>M</td>\n",
              "      <td>Casado</td>\n",
              "      <td>0</td>\n",
              "      <td>23</td>\n",
              "      <td>181</td>\n",
              "      <td>90</td>\n",
              "      <td>Engenharia de Materiais</td>\n",
              "    </tr>\n",
              "    <tr>\n",
              "      <th>43</th>\n",
              "      <td>44</td>\n",
              "      <td>Vale do Paraíba (com exceção de SJC)</td>\n",
              "      <td>M</td>\n",
              "      <td>Solteiro</td>\n",
              "      <td>1</td>\n",
              "      <td>19</td>\n",
              "      <td>186</td>\n",
              "      <td>91</td>\n",
              "      <td>Bacharelado em Matemática Computacional</td>\n",
              "    </tr>\n",
              "    <tr>\n",
              "      <th>44</th>\n",
              "      <td>45</td>\n",
              "      <td>Outros municípios do estado de São Paulo</td>\n",
              "      <td>F</td>\n",
              "      <td>Solteiro</td>\n",
              "      <td>0</td>\n",
              "      <td>18</td>\n",
              "      <td>172</td>\n",
              "      <td>61</td>\n",
              "      <td>Engenharia de Materiais</td>\n",
              "    </tr>\n",
              "    <tr>\n",
              "      <th>45</th>\n",
              "      <td>46</td>\n",
              "      <td>Outros municípios do estado de São Paulo</td>\n",
              "      <td>M</td>\n",
              "      <td>Solteiro</td>\n",
              "      <td>0</td>\n",
              "      <td>18</td>\n",
              "      <td>169</td>\n",
              "      <td>74</td>\n",
              "      <td>Ainda estou indeciso(a)</td>\n",
              "    </tr>\n",
              "    <tr>\n",
              "      <th>46</th>\n",
              "      <td>47</td>\n",
              "      <td>São José dos Campos</td>\n",
              "      <td>F</td>\n",
              "      <td>Casado</td>\n",
              "      <td>1</td>\n",
              "      <td>20</td>\n",
              "      <td>168</td>\n",
              "      <td>60</td>\n",
              "      <td>Bacharelado em Ciência da Computação</td>\n",
              "    </tr>\n",
              "    <tr>\n",
              "      <th>47</th>\n",
              "      <td>48</td>\n",
              "      <td>Vale do Paraíba (com exceção de SJC)</td>\n",
              "      <td>M</td>\n",
              "      <td>Solteiro</td>\n",
              "      <td>2</td>\n",
              "      <td>24</td>\n",
              "      <td>175</td>\n",
              "      <td>70</td>\n",
              "      <td>Bacharelado em Matemática Computacional</td>\n",
              "    </tr>\n",
              "    <tr>\n",
              "      <th>48</th>\n",
              "      <td>49</td>\n",
              "      <td>Vale do Paraíba (com exceção de SJC)</td>\n",
              "      <td>M</td>\n",
              "      <td>Solteiro</td>\n",
              "      <td>0</td>\n",
              "      <td>20</td>\n",
              "      <td>178</td>\n",
              "      <td>80</td>\n",
              "      <td>Ainda estou indeciso(a)</td>\n",
              "    </tr>\n",
              "    <tr>\n",
              "      <th>49</th>\n",
              "      <td>50</td>\n",
              "      <td>São José dos Campos</td>\n",
              "      <td>M</td>\n",
              "      <td>Solteiro</td>\n",
              "      <td>0</td>\n",
              "      <td>19</td>\n",
              "      <td>180</td>\n",
              "      <td>85</td>\n",
              "      <td>Engenharia Biomédica</td>\n",
              "    </tr>\n",
              "  </tbody>\n",
              "</table>\n",
              "</div>"
            ],
            "text/plain": [
              "    Número  ... Após a conclusão do BCT, você pretende fazer?\n",
              "0        1  ...          Bacharelado em Ciência da Computação\n",
              "1        2  ...                      Engenharia da Computação\n",
              "2        3  ...          Bacharelado em Ciência da Computação\n",
              "3        4  ...                      Engenharia da Computação\n",
              "4        5  ...                           Mercado de Trabalho\n",
              "5        6  ...                       Engenharia de Materiais\n",
              "6        7  ...                       Engenharia de Materiais\n",
              "7        8  ...                       Engenharia de Materiais\n",
              "8        9  ...          Bacharelado em Ciência da Computação\n",
              "9       10  ...                       Engenharia de Materiais\n",
              "10      11  ...                      Engenharia da Computação\n",
              "11      12  ...                       Engenharia de Materiais\n",
              "12      13  ...                           Mercado de Trabalho\n",
              "13      14  ...                       Engenharia de Materiais\n",
              "14      15  ...                      Engenharia da Computação\n",
              "15      16  ...       Bacharelado em Matemática Computacional\n",
              "16      17  ...                       Engenharia de Materiais\n",
              "17      18  ...                      Engenharia da Computação\n",
              "18      19  ...                       Ainda estou indeciso(a)\n",
              "19      20  ...                       Engenharia de Materiais\n",
              "20      21  ...                       Ainda estou indeciso(a)\n",
              "21      22  ...                          Engenharia Biomédica\n",
              "22      23  ...                       Ainda estou indeciso(a)\n",
              "23      24  ...                          Engenharia Biomédica\n",
              "24      25  ...                       Ainda estou indeciso(a)\n",
              "25      26  ...       Bacharelado em Matemática Computacional\n",
              "26      27  ...                       Engenharia de Materiais\n",
              "27      28  ...                      Engenharia da Computação\n",
              "28      29  ...                       Ainda estou indeciso(a)\n",
              "29      30  ...                       Ainda estou indeciso(a)\n",
              "30      31  ...                       Engenharia de Materiais\n",
              "31      32  ...                      Engenharia da Computação\n",
              "32      33  ...       Bacharelado em Matemática Computacional\n",
              "33      34  ...                       Engenharia de Materiais\n",
              "34      35  ...                      Engenharia da Computação\n",
              "35      36  ...          Bacharelado em Ciência da Computação\n",
              "36      37  ...                      Engenharia da Computação\n",
              "37      38  ...                           Mercado de Trabalho\n",
              "38      39  ...                       Engenharia de Materiais\n",
              "39      40  ...                      Engenharia da Computação\n",
              "40      41  ...          Bacharelado em Ciência da Computação\n",
              "41      42  ...                          Engenharia Biomédica\n",
              "42      43  ...                       Engenharia de Materiais\n",
              "43      44  ...       Bacharelado em Matemática Computacional\n",
              "44      45  ...                       Engenharia de Materiais\n",
              "45      46  ...                       Ainda estou indeciso(a)\n",
              "46      47  ...          Bacharelado em Ciência da Computação\n",
              "47      48  ...       Bacharelado em Matemática Computacional\n",
              "48      49  ...                       Ainda estou indeciso(a)\n",
              "49      50  ...                          Engenharia Biomédica\n",
              "\n",
              "[50 rows x 9 columns]"
            ]
          },
          "metadata": {
            "tags": []
          },
          "execution_count": 5
        }
      ]
    },
    {
      "cell_type": "code",
      "metadata": {
        "colab": {
          "base_uri": "https://localhost:8080/"
        },
        "id": "pCfrZiuD3CPv",
        "outputId": "7a9a559f-47b3-47f5-d7a9-0dec66ed6e97"
      },
      "source": [
        "df_alunos.columns"
      ],
      "execution_count": null,
      "outputs": [
        {
          "output_type": "execute_result",
          "data": {
            "text/plain": [
              "Index(['Número', 'Região de Procedência', 'Sexo', 'Estado Civil',\n",
              "       'Número de Filhos', 'Idade', 'Altura', 'Peso',\n",
              "       'Após a conclusão do BCT, você pretende fazer?'],\n",
              "      dtype='object')"
            ]
          },
          "metadata": {
            "tags": []
          },
          "execution_count": 6
        }
      ]
    },
    {
      "cell_type": "code",
      "metadata": {
        "id": "VXR-D3ts2aCV"
      },
      "source": [
        "df_alunos.rename(inplace=True,columns={'Número':'numero','Região de Procedência':'origem','Sexo':'sexo','Estado Civil':'estado_civil','Número de Filhos':'n_filhos','Idade':'idade','Altura':'altura','Peso':'peso','Após a conclusão do BCT, você pretende fazer?':'pos_bct'})"
      ],
      "execution_count": null,
      "outputs": []
    },
    {
      "cell_type": "code",
      "metadata": {
        "id": "iYfpsdqn4frZ"
      },
      "source": [
        "df_alunos.set_index(\"numero\",inplace=True)"
      ],
      "execution_count": null,
      "outputs": []
    },
    {
      "cell_type": "code",
      "metadata": {
        "colab": {
          "base_uri": "https://localhost:8080/",
          "height": 1000
        },
        "id": "wcefa4CK7Hd0",
        "outputId": "641e2517-fa1b-4009-dc65-f898596f2674"
      },
      "source": [
        "df_alunos"
      ],
      "execution_count": null,
      "outputs": [
        {
          "output_type": "execute_result",
          "data": {
            "text/html": [
              "<div>\n",
              "<style scoped>\n",
              "    .dataframe tbody tr th:only-of-type {\n",
              "        vertical-align: middle;\n",
              "    }\n",
              "\n",
              "    .dataframe tbody tr th {\n",
              "        vertical-align: top;\n",
              "    }\n",
              "\n",
              "    .dataframe thead th {\n",
              "        text-align: right;\n",
              "    }\n",
              "</style>\n",
              "<table border=\"1\" class=\"dataframe\">\n",
              "  <thead>\n",
              "    <tr style=\"text-align: right;\">\n",
              "      <th></th>\n",
              "      <th>origem</th>\n",
              "      <th>sexo</th>\n",
              "      <th>estado_civil</th>\n",
              "      <th>n_filhos</th>\n",
              "      <th>idade</th>\n",
              "      <th>altura</th>\n",
              "      <th>peso</th>\n",
              "      <th>pos_bct</th>\n",
              "    </tr>\n",
              "    <tr>\n",
              "      <th>numero</th>\n",
              "      <th></th>\n",
              "      <th></th>\n",
              "      <th></th>\n",
              "      <th></th>\n",
              "      <th></th>\n",
              "      <th></th>\n",
              "      <th></th>\n",
              "      <th></th>\n",
              "    </tr>\n",
              "  </thead>\n",
              "  <tbody>\n",
              "    <tr>\n",
              "      <th>1</th>\n",
              "      <td>Outros municípios do estado de São Paulo</td>\n",
              "      <td>F</td>\n",
              "      <td>Solteiro</td>\n",
              "      <td>0</td>\n",
              "      <td>18</td>\n",
              "      <td>163</td>\n",
              "      <td>51</td>\n",
              "      <td>Bacharelado em Ciência da Computação</td>\n",
              "    </tr>\n",
              "    <tr>\n",
              "      <th>2</th>\n",
              "      <td>Outros municípios do estado de São Paulo</td>\n",
              "      <td>F</td>\n",
              "      <td>Solteiro</td>\n",
              "      <td>0</td>\n",
              "      <td>21</td>\n",
              "      <td>150</td>\n",
              "      <td>44</td>\n",
              "      <td>Engenharia da Computação</td>\n",
              "    </tr>\n",
              "    <tr>\n",
              "      <th>3</th>\n",
              "      <td>São José dos Campos</td>\n",
              "      <td>M</td>\n",
              "      <td>Solteiro</td>\n",
              "      <td>0</td>\n",
              "      <td>21</td>\n",
              "      <td>178</td>\n",
              "      <td>71</td>\n",
              "      <td>Bacharelado em Ciência da Computação</td>\n",
              "    </tr>\n",
              "    <tr>\n",
              "      <th>4</th>\n",
              "      <td>Vale do Paraíba (com exceção de SJC)</td>\n",
              "      <td>M</td>\n",
              "      <td>Solteiro</td>\n",
              "      <td>0</td>\n",
              "      <td>19</td>\n",
              "      <td>180</td>\n",
              "      <td>65</td>\n",
              "      <td>Engenharia da Computação</td>\n",
              "    </tr>\n",
              "    <tr>\n",
              "      <th>5</th>\n",
              "      <td>Vale do Paraíba (com exceção de SJC)</td>\n",
              "      <td>M</td>\n",
              "      <td>Solteiro</td>\n",
              "      <td>0</td>\n",
              "      <td>20</td>\n",
              "      <td>171</td>\n",
              "      <td>69</td>\n",
              "      <td>Mercado de Trabalho</td>\n",
              "    </tr>\n",
              "    <tr>\n",
              "      <th>6</th>\n",
              "      <td>Outros municípios do estado de São Paulo</td>\n",
              "      <td>M</td>\n",
              "      <td>Solteiro</td>\n",
              "      <td>0</td>\n",
              "      <td>22</td>\n",
              "      <td>180</td>\n",
              "      <td>88</td>\n",
              "      <td>Engenharia de Materiais</td>\n",
              "    </tr>\n",
              "    <tr>\n",
              "      <th>7</th>\n",
              "      <td>São José dos Campos</td>\n",
              "      <td>M</td>\n",
              "      <td>Solteiro</td>\n",
              "      <td>0</td>\n",
              "      <td>19</td>\n",
              "      <td>162</td>\n",
              "      <td>43</td>\n",
              "      <td>Engenharia de Materiais</td>\n",
              "    </tr>\n",
              "    <tr>\n",
              "      <th>8</th>\n",
              "      <td>São José dos Campos</td>\n",
              "      <td>M</td>\n",
              "      <td>Solteiro</td>\n",
              "      <td>0</td>\n",
              "      <td>18</td>\n",
              "      <td>180</td>\n",
              "      <td>66</td>\n",
              "      <td>Engenharia de Materiais</td>\n",
              "    </tr>\n",
              "    <tr>\n",
              "      <th>9</th>\n",
              "      <td>Vale do Paraíba (com exceção de SJC)</td>\n",
              "      <td>M</td>\n",
              "      <td>Solteiro</td>\n",
              "      <td>0</td>\n",
              "      <td>24</td>\n",
              "      <td>177</td>\n",
              "      <td>124</td>\n",
              "      <td>Bacharelado em Ciência da Computação</td>\n",
              "    </tr>\n",
              "    <tr>\n",
              "      <th>10</th>\n",
              "      <td>Vale do Paraíba (com exceção de SJC)</td>\n",
              "      <td>F</td>\n",
              "      <td>Casado</td>\n",
              "      <td>2</td>\n",
              "      <td>23</td>\n",
              "      <td>165</td>\n",
              "      <td>76</td>\n",
              "      <td>Engenharia de Materiais</td>\n",
              "    </tr>\n",
              "    <tr>\n",
              "      <th>11</th>\n",
              "      <td>Outros municípios do estado de São Paulo</td>\n",
              "      <td>M</td>\n",
              "      <td>Solteiro</td>\n",
              "      <td>0</td>\n",
              "      <td>20</td>\n",
              "      <td>168</td>\n",
              "      <td>100</td>\n",
              "      <td>Engenharia da Computação</td>\n",
              "    </tr>\n",
              "    <tr>\n",
              "      <th>12</th>\n",
              "      <td>São José dos Campos</td>\n",
              "      <td>F</td>\n",
              "      <td>Solteiro</td>\n",
              "      <td>0</td>\n",
              "      <td>22</td>\n",
              "      <td>159</td>\n",
              "      <td>50</td>\n",
              "      <td>Engenharia de Materiais</td>\n",
              "    </tr>\n",
              "    <tr>\n",
              "      <th>13</th>\n",
              "      <td>Outros municípios do estado de São Paulo</td>\n",
              "      <td>M</td>\n",
              "      <td>Solteiro</td>\n",
              "      <td>0</td>\n",
              "      <td>27</td>\n",
              "      <td>171</td>\n",
              "      <td>74</td>\n",
              "      <td>Mercado de Trabalho</td>\n",
              "    </tr>\n",
              "    <tr>\n",
              "      <th>14</th>\n",
              "      <td>São José dos Campos</td>\n",
              "      <td>F</td>\n",
              "      <td>Solteiro</td>\n",
              "      <td>0</td>\n",
              "      <td>20</td>\n",
              "      <td>166</td>\n",
              "      <td>55</td>\n",
              "      <td>Engenharia de Materiais</td>\n",
              "    </tr>\n",
              "    <tr>\n",
              "      <th>15</th>\n",
              "      <td>São José dos Campos</td>\n",
              "      <td>M</td>\n",
              "      <td>Solteiro</td>\n",
              "      <td>0</td>\n",
              "      <td>20</td>\n",
              "      <td>180</td>\n",
              "      <td>70</td>\n",
              "      <td>Engenharia da Computação</td>\n",
              "    </tr>\n",
              "    <tr>\n",
              "      <th>16</th>\n",
              "      <td>Vale do Paraíba (com exceção de SJC)</td>\n",
              "      <td>M</td>\n",
              "      <td>Solteiro</td>\n",
              "      <td>1</td>\n",
              "      <td>23</td>\n",
              "      <td>167</td>\n",
              "      <td>65</td>\n",
              "      <td>Bacharelado em Matemática Computacional</td>\n",
              "    </tr>\n",
              "    <tr>\n",
              "      <th>17</th>\n",
              "      <td>São José dos Campos</td>\n",
              "      <td>F</td>\n",
              "      <td>Solteiro</td>\n",
              "      <td>0</td>\n",
              "      <td>18</td>\n",
              "      <td>168</td>\n",
              "      <td>53</td>\n",
              "      <td>Engenharia de Materiais</td>\n",
              "    </tr>\n",
              "    <tr>\n",
              "      <th>18</th>\n",
              "      <td>Outros municípios do estado de São Paulo</td>\n",
              "      <td>M</td>\n",
              "      <td>Solteiro</td>\n",
              "      <td>0</td>\n",
              "      <td>19</td>\n",
              "      <td>167</td>\n",
              "      <td>60</td>\n",
              "      <td>Engenharia da Computação</td>\n",
              "    </tr>\n",
              "    <tr>\n",
              "      <th>19</th>\n",
              "      <td>Vale do Paraíba (com exceção de SJC)</td>\n",
              "      <td>F</td>\n",
              "      <td>Solteiro</td>\n",
              "      <td>0</td>\n",
              "      <td>20</td>\n",
              "      <td>160</td>\n",
              "      <td>47</td>\n",
              "      <td>Ainda estou indeciso(a)</td>\n",
              "    </tr>\n",
              "    <tr>\n",
              "      <th>20</th>\n",
              "      <td>São José dos Campos</td>\n",
              "      <td>M</td>\n",
              "      <td>Casado</td>\n",
              "      <td>1</td>\n",
              "      <td>35</td>\n",
              "      <td>186</td>\n",
              "      <td>100</td>\n",
              "      <td>Engenharia de Materiais</td>\n",
              "    </tr>\n",
              "    <tr>\n",
              "      <th>21</th>\n",
              "      <td>São José dos Campos</td>\n",
              "      <td>M</td>\n",
              "      <td>Solteiro</td>\n",
              "      <td>0</td>\n",
              "      <td>19</td>\n",
              "      <td>185</td>\n",
              "      <td>95</td>\n",
              "      <td>Ainda estou indeciso(a)</td>\n",
              "    </tr>\n",
              "    <tr>\n",
              "      <th>22</th>\n",
              "      <td>Vale do Paraíba (com exceção de SJC)</td>\n",
              "      <td>F</td>\n",
              "      <td>Solteiro</td>\n",
              "      <td>0</td>\n",
              "      <td>20</td>\n",
              "      <td>167</td>\n",
              "      <td>58</td>\n",
              "      <td>Engenharia Biomédica</td>\n",
              "    </tr>\n",
              "    <tr>\n",
              "      <th>23</th>\n",
              "      <td>São José dos Campos</td>\n",
              "      <td>F</td>\n",
              "      <td>Solteiro</td>\n",
              "      <td>0</td>\n",
              "      <td>24</td>\n",
              "      <td>152</td>\n",
              "      <td>47</td>\n",
              "      <td>Ainda estou indeciso(a)</td>\n",
              "    </tr>\n",
              "    <tr>\n",
              "      <th>24</th>\n",
              "      <td>Outros estados da região sudeste</td>\n",
              "      <td>M</td>\n",
              "      <td>Solteiro</td>\n",
              "      <td>0</td>\n",
              "      <td>18</td>\n",
              "      <td>194</td>\n",
              "      <td>70</td>\n",
              "      <td>Engenharia Biomédica</td>\n",
              "    </tr>\n",
              "    <tr>\n",
              "      <th>25</th>\n",
              "      <td>Vale do Paraíba (com exceção de SJC)</td>\n",
              "      <td>F</td>\n",
              "      <td>Casado</td>\n",
              "      <td>1</td>\n",
              "      <td>31</td>\n",
              "      <td>169</td>\n",
              "      <td>57</td>\n",
              "      <td>Ainda estou indeciso(a)</td>\n",
              "    </tr>\n",
              "    <tr>\n",
              "      <th>26</th>\n",
              "      <td>São José dos Campos</td>\n",
              "      <td>M</td>\n",
              "      <td>Casado</td>\n",
              "      <td>0</td>\n",
              "      <td>24</td>\n",
              "      <td>172</td>\n",
              "      <td>67</td>\n",
              "      <td>Bacharelado em Matemática Computacional</td>\n",
              "    </tr>\n",
              "    <tr>\n",
              "      <th>27</th>\n",
              "      <td>Vale do Paraíba (com exceção de SJC)</td>\n",
              "      <td>M</td>\n",
              "      <td>Solteiro</td>\n",
              "      <td>0</td>\n",
              "      <td>23</td>\n",
              "      <td>179</td>\n",
              "      <td>70</td>\n",
              "      <td>Engenharia de Materiais</td>\n",
              "    </tr>\n",
              "    <tr>\n",
              "      <th>28</th>\n",
              "      <td>Outros municípios do estado de São Paulo</td>\n",
              "      <td>M</td>\n",
              "      <td>Solteiro</td>\n",
              "      <td>1</td>\n",
              "      <td>20</td>\n",
              "      <td>180</td>\n",
              "      <td>82</td>\n",
              "      <td>Engenharia da Computação</td>\n",
              "    </tr>\n",
              "    <tr>\n",
              "      <th>29</th>\n",
              "      <td>São José dos Campos</td>\n",
              "      <td>F</td>\n",
              "      <td>Solteiro</td>\n",
              "      <td>0</td>\n",
              "      <td>21</td>\n",
              "      <td>153</td>\n",
              "      <td>52</td>\n",
              "      <td>Ainda estou indeciso(a)</td>\n",
              "    </tr>\n",
              "    <tr>\n",
              "      <th>30</th>\n",
              "      <td>Outros municípios do estado de São Paulo</td>\n",
              "      <td>M</td>\n",
              "      <td>Solteiro</td>\n",
              "      <td>0</td>\n",
              "      <td>22</td>\n",
              "      <td>175</td>\n",
              "      <td>85</td>\n",
              "      <td>Ainda estou indeciso(a)</td>\n",
              "    </tr>\n",
              "    <tr>\n",
              "      <th>31</th>\n",
              "      <td>Vale do Paraíba (com exceção de SJC)</td>\n",
              "      <td>M</td>\n",
              "      <td>Solteiro</td>\n",
              "      <td>0</td>\n",
              "      <td>20</td>\n",
              "      <td>179</td>\n",
              "      <td>80</td>\n",
              "      <td>Engenharia de Materiais</td>\n",
              "    </tr>\n",
              "    <tr>\n",
              "      <th>32</th>\n",
              "      <td>São José dos Campos</td>\n",
              "      <td>F</td>\n",
              "      <td>Solteiro</td>\n",
              "      <td>0</td>\n",
              "      <td>20</td>\n",
              "      <td>160</td>\n",
              "      <td>55</td>\n",
              "      <td>Engenharia da Computação</td>\n",
              "    </tr>\n",
              "    <tr>\n",
              "      <th>33</th>\n",
              "      <td>São José dos Campos</td>\n",
              "      <td>M</td>\n",
              "      <td>Solteiro</td>\n",
              "      <td>0</td>\n",
              "      <td>23</td>\n",
              "      <td>184</td>\n",
              "      <td>85</td>\n",
              "      <td>Bacharelado em Matemática Computacional</td>\n",
              "    </tr>\n",
              "    <tr>\n",
              "      <th>34</th>\n",
              "      <td>Vale do Paraíba (com exceção de SJC)</td>\n",
              "      <td>M</td>\n",
              "      <td>Solteiro</td>\n",
              "      <td>0</td>\n",
              "      <td>18</td>\n",
              "      <td>180</td>\n",
              "      <td>86</td>\n",
              "      <td>Engenharia de Materiais</td>\n",
              "    </tr>\n",
              "    <tr>\n",
              "      <th>35</th>\n",
              "      <td>Outros estados da região sudeste</td>\n",
              "      <td>F</td>\n",
              "      <td>Casado</td>\n",
              "      <td>2</td>\n",
              "      <td>23</td>\n",
              "      <td>159</td>\n",
              "      <td>62</td>\n",
              "      <td>Engenharia da Computação</td>\n",
              "    </tr>\n",
              "    <tr>\n",
              "      <th>36</th>\n",
              "      <td>São José dos Campos</td>\n",
              "      <td>M</td>\n",
              "      <td>Casado</td>\n",
              "      <td>0</td>\n",
              "      <td>22</td>\n",
              "      <td>178</td>\n",
              "      <td>79</td>\n",
              "      <td>Bacharelado em Ciência da Computação</td>\n",
              "    </tr>\n",
              "    <tr>\n",
              "      <th>37</th>\n",
              "      <td>Outros estados da região sudeste</td>\n",
              "      <td>F</td>\n",
              "      <td>Solteiro</td>\n",
              "      <td>1</td>\n",
              "      <td>22</td>\n",
              "      <td>158</td>\n",
              "      <td>59</td>\n",
              "      <td>Engenharia da Computação</td>\n",
              "    </tr>\n",
              "    <tr>\n",
              "      <th>38</th>\n",
              "      <td>Outros estados da região sudeste</td>\n",
              "      <td>M</td>\n",
              "      <td>Solteiro</td>\n",
              "      <td>0</td>\n",
              "      <td>21</td>\n",
              "      <td>170</td>\n",
              "      <td>80</td>\n",
              "      <td>Mercado de Trabalho</td>\n",
              "    </tr>\n",
              "    <tr>\n",
              "      <th>39</th>\n",
              "      <td>São José dos Campos</td>\n",
              "      <td>F</td>\n",
              "      <td>Solteiro</td>\n",
              "      <td>0</td>\n",
              "      <td>20</td>\n",
              "      <td>162</td>\n",
              "      <td>58</td>\n",
              "      <td>Engenharia de Materiais</td>\n",
              "    </tr>\n",
              "    <tr>\n",
              "      <th>40</th>\n",
              "      <td>São José dos Campos</td>\n",
              "      <td>M</td>\n",
              "      <td>Solteiro</td>\n",
              "      <td>0</td>\n",
              "      <td>22</td>\n",
              "      <td>168</td>\n",
              "      <td>75</td>\n",
              "      <td>Engenharia da Computação</td>\n",
              "    </tr>\n",
              "    <tr>\n",
              "      <th>41</th>\n",
              "      <td>São José dos Campos</td>\n",
              "      <td>F</td>\n",
              "      <td>Solteiro</td>\n",
              "      <td>0</td>\n",
              "      <td>19</td>\n",
              "      <td>169</td>\n",
              "      <td>64</td>\n",
              "      <td>Bacharelado em Ciência da Computação</td>\n",
              "    </tr>\n",
              "    <tr>\n",
              "      <th>42</th>\n",
              "      <td>Outros municípios do estado de São Paulo</td>\n",
              "      <td>M</td>\n",
              "      <td>Solteiro</td>\n",
              "      <td>0</td>\n",
              "      <td>18</td>\n",
              "      <td>175</td>\n",
              "      <td>85</td>\n",
              "      <td>Engenharia Biomédica</td>\n",
              "    </tr>\n",
              "    <tr>\n",
              "      <th>43</th>\n",
              "      <td>São José dos Campos</td>\n",
              "      <td>M</td>\n",
              "      <td>Casado</td>\n",
              "      <td>0</td>\n",
              "      <td>23</td>\n",
              "      <td>181</td>\n",
              "      <td>90</td>\n",
              "      <td>Engenharia de Materiais</td>\n",
              "    </tr>\n",
              "    <tr>\n",
              "      <th>44</th>\n",
              "      <td>Vale do Paraíba (com exceção de SJC)</td>\n",
              "      <td>M</td>\n",
              "      <td>Solteiro</td>\n",
              "      <td>1</td>\n",
              "      <td>19</td>\n",
              "      <td>186</td>\n",
              "      <td>91</td>\n",
              "      <td>Bacharelado em Matemática Computacional</td>\n",
              "    </tr>\n",
              "    <tr>\n",
              "      <th>45</th>\n",
              "      <td>Outros municípios do estado de São Paulo</td>\n",
              "      <td>F</td>\n",
              "      <td>Solteiro</td>\n",
              "      <td>0</td>\n",
              "      <td>18</td>\n",
              "      <td>172</td>\n",
              "      <td>61</td>\n",
              "      <td>Engenharia de Materiais</td>\n",
              "    </tr>\n",
              "    <tr>\n",
              "      <th>46</th>\n",
              "      <td>Outros municípios do estado de São Paulo</td>\n",
              "      <td>M</td>\n",
              "      <td>Solteiro</td>\n",
              "      <td>0</td>\n",
              "      <td>18</td>\n",
              "      <td>169</td>\n",
              "      <td>74</td>\n",
              "      <td>Ainda estou indeciso(a)</td>\n",
              "    </tr>\n",
              "    <tr>\n",
              "      <th>47</th>\n",
              "      <td>São José dos Campos</td>\n",
              "      <td>F</td>\n",
              "      <td>Casado</td>\n",
              "      <td>1</td>\n",
              "      <td>20</td>\n",
              "      <td>168</td>\n",
              "      <td>60</td>\n",
              "      <td>Bacharelado em Ciência da Computação</td>\n",
              "    </tr>\n",
              "    <tr>\n",
              "      <th>48</th>\n",
              "      <td>Vale do Paraíba (com exceção de SJC)</td>\n",
              "      <td>M</td>\n",
              "      <td>Solteiro</td>\n",
              "      <td>2</td>\n",
              "      <td>24</td>\n",
              "      <td>175</td>\n",
              "      <td>70</td>\n",
              "      <td>Bacharelado em Matemática Computacional</td>\n",
              "    </tr>\n",
              "    <tr>\n",
              "      <th>49</th>\n",
              "      <td>Vale do Paraíba (com exceção de SJC)</td>\n",
              "      <td>M</td>\n",
              "      <td>Solteiro</td>\n",
              "      <td>0</td>\n",
              "      <td>20</td>\n",
              "      <td>178</td>\n",
              "      <td>80</td>\n",
              "      <td>Ainda estou indeciso(a)</td>\n",
              "    </tr>\n",
              "    <tr>\n",
              "      <th>50</th>\n",
              "      <td>São José dos Campos</td>\n",
              "      <td>M</td>\n",
              "      <td>Solteiro</td>\n",
              "      <td>0</td>\n",
              "      <td>19</td>\n",
              "      <td>180</td>\n",
              "      <td>85</td>\n",
              "      <td>Engenharia Biomédica</td>\n",
              "    </tr>\n",
              "  </tbody>\n",
              "</table>\n",
              "</div>"
            ],
            "text/plain": [
              "                                          origem  ...                                  pos_bct\n",
              "numero                                            ...                                         \n",
              "1       Outros municípios do estado de São Paulo  ...     Bacharelado em Ciência da Computação\n",
              "2       Outros municípios do estado de São Paulo  ...                 Engenharia da Computação\n",
              "3                            São José dos Campos  ...     Bacharelado em Ciência da Computação\n",
              "4           Vale do Paraíba (com exceção de SJC)  ...                 Engenharia da Computação\n",
              "5           Vale do Paraíba (com exceção de SJC)  ...                      Mercado de Trabalho\n",
              "6       Outros municípios do estado de São Paulo  ...                  Engenharia de Materiais\n",
              "7                            São José dos Campos  ...                  Engenharia de Materiais\n",
              "8                            São José dos Campos  ...                  Engenharia de Materiais\n",
              "9           Vale do Paraíba (com exceção de SJC)  ...     Bacharelado em Ciência da Computação\n",
              "10          Vale do Paraíba (com exceção de SJC)  ...                  Engenharia de Materiais\n",
              "11      Outros municípios do estado de São Paulo  ...                 Engenharia da Computação\n",
              "12                           São José dos Campos  ...                  Engenharia de Materiais\n",
              "13      Outros municípios do estado de São Paulo  ...                      Mercado de Trabalho\n",
              "14                           São José dos Campos  ...                  Engenharia de Materiais\n",
              "15                           São José dos Campos  ...                 Engenharia da Computação\n",
              "16          Vale do Paraíba (com exceção de SJC)  ...  Bacharelado em Matemática Computacional\n",
              "17                           São José dos Campos  ...                  Engenharia de Materiais\n",
              "18      Outros municípios do estado de São Paulo  ...                 Engenharia da Computação\n",
              "19          Vale do Paraíba (com exceção de SJC)  ...                  Ainda estou indeciso(a)\n",
              "20                           São José dos Campos  ...                  Engenharia de Materiais\n",
              "21                           São José dos Campos  ...                  Ainda estou indeciso(a)\n",
              "22          Vale do Paraíba (com exceção de SJC)  ...                     Engenharia Biomédica\n",
              "23                           São José dos Campos  ...                  Ainda estou indeciso(a)\n",
              "24              Outros estados da região sudeste  ...                     Engenharia Biomédica\n",
              "25          Vale do Paraíba (com exceção de SJC)  ...                  Ainda estou indeciso(a)\n",
              "26                           São José dos Campos  ...  Bacharelado em Matemática Computacional\n",
              "27          Vale do Paraíba (com exceção de SJC)  ...                  Engenharia de Materiais\n",
              "28      Outros municípios do estado de São Paulo  ...                 Engenharia da Computação\n",
              "29                           São José dos Campos  ...                  Ainda estou indeciso(a)\n",
              "30      Outros municípios do estado de São Paulo  ...                  Ainda estou indeciso(a)\n",
              "31          Vale do Paraíba (com exceção de SJC)  ...                  Engenharia de Materiais\n",
              "32                           São José dos Campos  ...                 Engenharia da Computação\n",
              "33                           São José dos Campos  ...  Bacharelado em Matemática Computacional\n",
              "34          Vale do Paraíba (com exceção de SJC)  ...                  Engenharia de Materiais\n",
              "35              Outros estados da região sudeste  ...                 Engenharia da Computação\n",
              "36                           São José dos Campos  ...     Bacharelado em Ciência da Computação\n",
              "37              Outros estados da região sudeste  ...                 Engenharia da Computação\n",
              "38              Outros estados da região sudeste  ...                      Mercado de Trabalho\n",
              "39                           São José dos Campos  ...                  Engenharia de Materiais\n",
              "40                           São José dos Campos  ...                 Engenharia da Computação\n",
              "41                           São José dos Campos  ...     Bacharelado em Ciência da Computação\n",
              "42      Outros municípios do estado de São Paulo  ...                     Engenharia Biomédica\n",
              "43                           São José dos Campos  ...                  Engenharia de Materiais\n",
              "44          Vale do Paraíba (com exceção de SJC)  ...  Bacharelado em Matemática Computacional\n",
              "45      Outros municípios do estado de São Paulo  ...                  Engenharia de Materiais\n",
              "46      Outros municípios do estado de São Paulo  ...                  Ainda estou indeciso(a)\n",
              "47                           São José dos Campos  ...     Bacharelado em Ciência da Computação\n",
              "48          Vale do Paraíba (com exceção de SJC)  ...  Bacharelado em Matemática Computacional\n",
              "49          Vale do Paraíba (com exceção de SJC)  ...                  Ainda estou indeciso(a)\n",
              "50                           São José dos Campos  ...                     Engenharia Biomédica\n",
              "\n",
              "[50 rows x 8 columns]"
            ]
          },
          "metadata": {
            "tags": []
          },
          "execution_count": 9
        }
      ]
    },
    {
      "cell_type": "markdown",
      "metadata": {
        "id": "32BPdf2t7Zn0"
      },
      "source": [
        "# 3 - Quantidade de pessoas na base de dados."
      ]
    },
    {
      "cell_type": "code",
      "metadata": {
        "colab": {
          "base_uri": "https://localhost:8080/"
        },
        "id": "8Vx624OX7WJx",
        "outputId": "35688aba-9d78-45a4-f9ad-e44d32767e8d"
      },
      "source": [
        "n_pessoas = len(df_alunos)\n",
        "n_pessoas\n",
        "print(\"O número de pessoas entrevistadas foi %s.\" %n_pessoas)"
      ],
      "execution_count": null,
      "outputs": [
        {
          "output_type": "stream",
          "text": [
            "O número de pessoas entrevistadas foi 50.\n"
          ],
          "name": "stdout"
        }
      ]
    },
    {
      "cell_type": "markdown",
      "metadata": {
        "id": "oU0lXfFo8Fv9"
      },
      "source": [
        "# 4 - Percentual de pessoas do sexo masculino e feminino que estudam na UNIFESP."
      ]
    },
    {
      "cell_type": "code",
      "metadata": {
        "id": "x39MmQMY8_V1"
      },
      "source": [
        "n_sexo_f = len(df_alunos.loc[df_alunos['sexo'] == 'F'])\n",
        "n_sexo_m = len(df_alunos.loc[df_alunos['sexo'] == 'M'])"
      ],
      "execution_count": null,
      "outputs": []
    },
    {
      "cell_type": "code",
      "metadata": {
        "colab": {
          "base_uri": "https://localhost:8080/"
        },
        "id": "7CkXArdh9mth",
        "outputId": "35d39b47-b64f-408c-9008-35c45bdefe38"
      },
      "source": [
        "print(\"A porcentagem de alunos do sexo feminino é de %s%% e de alunos do sexo masculino é de %s%%.\"%((100*n_sexo_f/n_pessoas),(100*n_sexo_m/n_pessoas)))"
      ],
      "execution_count": null,
      "outputs": [
        {
          "output_type": "stream",
          "text": [
            "A porcentagem de alunos do sexo feminino é de 36.0% e de alunos do sexo masculino é de 64.0%.\n"
          ],
          "name": "stdout"
        }
      ]
    },
    {
      "cell_type": "code",
      "metadata": {
        "colab": {
          "base_uri": "https://localhost:8080/",
          "height": 264
        },
        "id": "r-yWv1oR-cCV",
        "outputId": "4c04f459-a26d-4170-ac60-4dd4484ab492"
      },
      "source": [
        "y = np.array([n_sexo_f,n_sexo_m])\n",
        "\n",
        "plt.pie(y,labels=[\"Feminino\",\"Masculino\"],autopct='%1.2f%%')\n",
        "plt.title(\"Distribuição dos Alunos por Sexo\")\n",
        "plt.show()"
      ],
      "execution_count": null,
      "outputs": [
        {
          "output_type": "display_data",
          "data": {
            "image/png": "[encoded data removed]",
            "text/plain": [
              "<Figure size 432x288 with 1 Axes>"
            ]
          },
          "metadata": {
            "tags": []
          }
        }
      ]
    },
    {
      "cell_type": "markdown",
      "metadata": {
        "id": "KzDG6YudAu87"
      },
      "source": [
        "# 5- Distribuição por idades."
      ]
    },
    {
      "cell_type": "code",
      "metadata": {
        "colab": {
          "base_uri": "https://localhost:8080/",
          "height": 297
        },
        "id": "cftNDzliA3Re",
        "outputId": "adb3a9d6-0c40-487e-aa52-2d1180bc018c"
      },
      "source": [
        "df_alunos.describe()"
      ],
      "execution_count": null,
      "outputs": [
        {
          "output_type": "execute_result",
          "data": {
            "text/html": [
              "<div>\n",
              "<style scoped>\n",
              "    .dataframe tbody tr th:only-of-type {\n",
              "        vertical-align: middle;\n",
              "    }\n",
              "\n",
              "    .dataframe tbody tr th {\n",
              "        vertical-align: top;\n",
              "    }\n",
              "\n",
              "    .dataframe thead th {\n",
              "        text-align: right;\n",
              "    }\n",
              "</style>\n",
              "<table border=\"1\" class=\"dataframe\">\n",
              "  <thead>\n",
              "    <tr style=\"text-align: right;\">\n",
              "      <th></th>\n",
              "      <th>n_filhos</th>\n",
              "      <th>idade</th>\n",
              "      <th>altura</th>\n",
              "      <th>peso</th>\n",
              "    </tr>\n",
              "  </thead>\n",
              "  <tbody>\n",
              "    <tr>\n",
              "      <th>count</th>\n",
              "      <td>50.000000</td>\n",
              "      <td>50.000000</td>\n",
              "      <td>50.000000</td>\n",
              "      <td>50.000000</td>\n",
              "    </tr>\n",
              "    <tr>\n",
              "      <th>mean</th>\n",
              "      <td>0.260000</td>\n",
              "      <td>21.200000</td>\n",
              "      <td>171.500000</td>\n",
              "      <td>70.660000</td>\n",
              "    </tr>\n",
              "    <tr>\n",
              "      <th>std</th>\n",
              "      <td>0.564602</td>\n",
              "      <td>3.219836</td>\n",
              "      <td>9.655811</td>\n",
              "      <td>16.648356</td>\n",
              "    </tr>\n",
              "    <tr>\n",
              "      <th>min</th>\n",
              "      <td>0.000000</td>\n",
              "      <td>18.000000</td>\n",
              "      <td>150.000000</td>\n",
              "      <td>43.000000</td>\n",
              "    </tr>\n",
              "    <tr>\n",
              "      <th>25%</th>\n",
              "      <td>0.000000</td>\n",
              "      <td>19.000000</td>\n",
              "      <td>166.250000</td>\n",
              "      <td>58.250000</td>\n",
              "    </tr>\n",
              "    <tr>\n",
              "      <th>50%</th>\n",
              "      <td>0.000000</td>\n",
              "      <td>20.000000</td>\n",
              "      <td>171.000000</td>\n",
              "      <td>70.000000</td>\n",
              "    </tr>\n",
              "    <tr>\n",
              "      <th>75%</th>\n",
              "      <td>0.000000</td>\n",
              "      <td>22.750000</td>\n",
              "      <td>179.750000</td>\n",
              "      <td>81.500000</td>\n",
              "    </tr>\n",
              "    <tr>\n",
              "      <th>max</th>\n",
              "      <td>2.000000</td>\n",
              "      <td>35.000000</td>\n",
              "      <td>194.000000</td>\n",
              "      <td>124.000000</td>\n",
              "    </tr>\n",
              "  </tbody>\n",
              "</table>\n",
              "</div>"
            ],
            "text/plain": [
              "        n_filhos      idade      altura        peso\n",
              "count  50.000000  50.000000   50.000000   50.000000\n",
              "mean    0.260000  21.200000  171.500000   70.660000\n",
              "std     0.564602   3.219836    9.655811   16.648356\n",
              "min     0.000000  18.000000  150.000000   43.000000\n",
              "25%     0.000000  19.000000  166.250000   58.250000\n",
              "50%     0.000000  20.000000  171.000000   70.000000\n",
              "75%     0.000000  22.750000  179.750000   81.500000\n",
              "max     2.000000  35.000000  194.000000  124.000000"
            ]
          },
          "metadata": {
            "tags": []
          },
          "execution_count": 14
        }
      ]
    },
    {
      "cell_type": "code",
      "metadata": {
        "colab": {
          "base_uri": "https://localhost:8080/"
        },
        "id": "YphlsdGPB0sT",
        "outputId": "bbae3fd7-6951-4911-870e-7971fa0f5406"
      },
      "source": [
        "unique_idades = np.unique(df_alunos[\"idade\"])\n",
        "unique_idades"
      ],
      "execution_count": null,
      "outputs": [
        {
          "output_type": "execute_result",
          "data": {
            "text/plain": [
              "array([18, 19, 20, 21, 22, 23, 24, 27, 31, 35])"
            ]
          },
          "metadata": {
            "tags": []
          },
          "execution_count": 15
        }
      ]
    },
    {
      "cell_type": "code",
      "metadata": {
        "colab": {
          "base_uri": "https://localhost:8080/"
        },
        "id": "Maxy4ULpCM88",
        "outputId": "2ad0ef0d-ae6f-4217-e06c-e1908e9c3ef0"
      },
      "source": [
        "lista_idades = np.array(df_alunos[\"idade\"])\n",
        "lista_idades"
      ],
      "execution_count": null,
      "outputs": [
        {
          "output_type": "execute_result",
          "data": {
            "text/plain": [
              "array([18, 21, 21, 19, 20, 22, 19, 18, 24, 23, 20, 22, 27, 20, 20, 23, 18,\n",
              "       19, 20, 35, 19, 20, 24, 18, 31, 24, 23, 20, 21, 22, 20, 20, 23, 18,\n",
              "       23, 22, 22, 21, 20, 22, 19, 18, 23, 19, 18, 18, 20, 24, 20, 19])"
            ]
          },
          "metadata": {
            "tags": []
          },
          "execution_count": 16
        }
      ]
    },
    {
      "cell_type": "code",
      "metadata": {
        "colab": {
          "base_uri": "https://localhost:8080/"
        },
        "id": "ESTs3BPMCYY2",
        "outputId": "2e8ee277-969b-4424-8050-44a4436f8081"
      },
      "source": [
        "lista_idades.sort()\n",
        "lista_idades"
      ],
      "execution_count": null,
      "outputs": [
        {
          "output_type": "execute_result",
          "data": {
            "text/plain": [
              "array([18, 18, 18, 18, 18, 18, 18, 18, 19, 19, 19, 19, 19, 19, 19, 20, 20,\n",
              "       20, 20, 20, 20, 20, 20, 20, 20, 20, 20, 21, 21, 21, 21, 22, 22, 22,\n",
              "       22, 22, 22, 23, 23, 23, 23, 23, 23, 24, 24, 24, 24, 27, 31, 35])"
            ]
          },
          "metadata": {
            "tags": []
          },
          "execution_count": 17
        }
      ]
    },
    {
      "cell_type": "code",
      "metadata": {
        "id": "8K3rkoFODLb_"
      },
      "source": [
        "df_idades = df_alunos[\"idade\"]"
      ],
      "execution_count": null,
      "outputs": []
    },
    {
      "cell_type": "code",
      "metadata": {
        "colab": {
          "base_uri": "https://localhost:8080/",
          "height": 283
        },
        "id": "xXU2GKJMDRR7",
        "outputId": "fad5c602-3453-4f61-ace5-6af6fb168a5b"
      },
      "source": [
        "df_idades.plot.hist(bins=5,alpha=0.9)"
      ],
      "execution_count": null,
      "outputs": [
        {
          "output_type": "execute_result",
          "data": {
            "text/plain": [
              "<matplotlib.axes._subplots.AxesSubplot at 0x7f5f2ca9f3d0>"
            ]
          },
          "metadata": {
            "tags": []
          },
          "execution_count": 19
        },
        {
          "output_type": "display_data",
          "data": {
            "image/png": "[encoded data removed]",
            "text/plain": [
              "<Figure size 432x288 with 1 Axes>"
            ]
          },
          "metadata": {
            "tags": [],
            "needs_background": "light"
          }
        }
      ]
    },
    {
      "cell_type": "markdown",
      "metadata": {
        "id": "jeAqwPxpGCxh"
      },
      "source": [
        "#6 - Distribuição dos Cursos."
      ]
    },
    {
      "cell_type": "code",
      "metadata": {
        "id": "9HdnLOl-GHZx",
        "colab": {
          "base_uri": "https://localhost:8080/"
        },
        "outputId": "669d6f4e-d3bf-4e75-c0d3-454b79064ec8"
      },
      "source": [
        "np.unique(df_alunos[\"pos_bct\"])"
      ],
      "execution_count": null,
      "outputs": [
        {
          "output_type": "execute_result",
          "data": {
            "text/plain": [
              "array(['Ainda estou indeciso(a)', 'Bacharelado em Ciência da Computação',\n",
              "       'Bacharelado em Matemática Computacional', 'Engenharia Biomédica',\n",
              "       'Engenharia da Computação', 'Engenharia de Materiais',\n",
              "       'Mercado de Trabalho'], dtype=object)"
            ]
          },
          "metadata": {
            "tags": []
          },
          "execution_count": 20
        }
      ]
    },
    {
      "cell_type": "markdown",
      "metadata": {
        "id": "Jh_ZIXywH1pB"
      },
      "source": [
        "#7 - O porcentual de homens e mulheres que pretendem fazer cursos de engenharia."
      ]
    },
    {
      "cell_type": "code",
      "metadata": {
        "colab": {
          "base_uri": "https://localhost:8080/"
        },
        "id": "I0xu33uQHLl1",
        "outputId": "24233adc-0774-4aa5-ac4f-bcf5c17507e1"
      },
      "source": [
        "listaPos_bct = df_alunos['pos_bct']\n",
        "listaPos_bct\n"
      ],
      "execution_count": null,
      "outputs": [
        {
          "output_type": "execute_result",
          "data": {
            "text/plain": [
              "numero\n",
              "1        Bacharelado em Ciência da Computação\n",
              "2                    Engenharia da Computação\n",
              "3        Bacharelado em Ciência da Computação\n",
              "4                    Engenharia da Computação\n",
              "5                         Mercado de Trabalho\n",
              "6                     Engenharia de Materiais\n",
              "7                     Engenharia de Materiais\n",
              "8                     Engenharia de Materiais\n",
              "9        Bacharelado em Ciência da Computação\n",
              "10                    Engenharia de Materiais\n",
              "11                   Engenharia da Computação\n",
              "12                    Engenharia de Materiais\n",
              "13                        Mercado de Trabalho\n",
              "14                    Engenharia de Materiais\n",
              "15                   Engenharia da Computação\n",
              "16    Bacharelado em Matemática Computacional\n",
              "17                    Engenharia de Materiais\n",
              "18                   Engenharia da Computação\n",
              "19                    Ainda estou indeciso(a)\n",
              "20                    Engenharia de Materiais\n",
              "21                    Ainda estou indeciso(a)\n",
              "22                       Engenharia Biomédica\n",
              "23                    Ainda estou indeciso(a)\n",
              "24                       Engenharia Biomédica\n",
              "25                    Ainda estou indeciso(a)\n",
              "26    Bacharelado em Matemática Computacional\n",
              "27                    Engenharia de Materiais\n",
              "28                   Engenharia da Computação\n",
              "29                    Ainda estou indeciso(a)\n",
              "30                    Ainda estou indeciso(a)\n",
              "31                    Engenharia de Materiais\n",
              "32                   Engenharia da Computação\n",
              "33    Bacharelado em Matemática Computacional\n",
              "34                    Engenharia de Materiais\n",
              "35                   Engenharia da Computação\n",
              "36       Bacharelado em Ciência da Computação\n",
              "37                   Engenharia da Computação\n",
              "38                        Mercado de Trabalho\n",
              "39                    Engenharia de Materiais\n",
              "40                   Engenharia da Computação\n",
              "41       Bacharelado em Ciência da Computação\n",
              "42                       Engenharia Biomédica\n",
              "43                    Engenharia de Materiais\n",
              "44    Bacharelado em Matemática Computacional\n",
              "45                    Engenharia de Materiais\n",
              "46                    Ainda estou indeciso(a)\n",
              "47       Bacharelado em Ciência da Computação\n",
              "48    Bacharelado em Matemática Computacional\n",
              "49                    Ainda estou indeciso(a)\n",
              "50                       Engenharia Biomédica\n",
              "Name: pos_bct, dtype: object"
            ]
          },
          "metadata": {
            "tags": []
          },
          "execution_count": 21
        }
      ]
    },
    {
      "cell_type": "code",
      "metadata": {
        "id": "SxUxxG8vJZpb"
      },
      "source": [
        ""
      ],
      "execution_count": null,
      "outputs": []
    },
    {
      "cell_type": "markdown",
      "metadata": {
        "id": "r5rYxKU9Fr6b"
      },
      "source": [
        "# 8 - Procedência dos alunos"
      ]
    },
    {
      "cell_type": "code",
      "metadata": {
        "colab": {
          "base_uri": "https://localhost:8080/"
        },
        "id": "isMJRfKvF8Ye",
        "outputId": "efdca717-7456-4687-89d2-9216e66084d8"
      },
      "source": [
        "np.unique(df_alunos['origem'])"
      ],
      "execution_count": null,
      "outputs": [
        {
          "output_type": "execute_result",
          "data": {
            "text/plain": [
              "array(['Outros estados da região sudeste',\n",
              "       'Outros municípios do estado de São Paulo', 'São José dos Campos',\n",
              "       'Vale do Paraíba (com exceção de SJC)'], dtype=object)"
            ]
          },
          "metadata": {
            "tags": []
          },
          "execution_count": 26
        }
      ]
    },
    {
      "cell_type": "code",
      "metadata": {
        "id": "NPuORaz3GO3Y"
      },
      "source": [
        "outros_estados_sudeste = len(df_alunos.loc[df_alunos['origem'] == 'Outros estados da região sudeste'])\n",
        "outros_municipios_sp = len(df_alunos.loc[df_alunos['origem'] == 'Outros municípios do estado de São Paulo'])\n",
        "sjc = len(df_alunos.loc[df_alunos['origem'] == 'São José dos Campos'])\n",
        "vale = len(df_alunos.loc[df_alunos['origem'] == 'Vale do Paraíba (com exceção de SJC)'])"
      ],
      "execution_count": null,
      "outputs": []
    },
    {
      "cell_type": "code",
      "metadata": {
        "colab": {
          "base_uri": "https://localhost:8080/",
          "height": 264
        },
        "id": "aEY_GruYHX-L",
        "outputId": "9fc9895a-976d-4904-d344-b5a2aae07aeb"
      },
      "source": [
        "y = np.array([outros_estados_sudeste, outros_municipios_sp, sjc, vale])\n",
        "\n",
        "plt.pie(y,labels=['Outros estados da região sudeste',\n",
        "       'Outros municípios do estado de São Paulo', 'São José dos Campos',\n",
        "       'Vale do Paraíba (com exceção de SJC)'],autopct='%1.2f%%')\n",
        "plt.title(\"Procedência dos Alunos\")\n",
        "plt.show()"
      ],
      "execution_count": null,
      "outputs": [
        {
          "output_type": "display_data",
          "data": {
            "image/png": "[encoded data removed]",
            "text/plain": [
              "<Figure size 432x288 with 1 Axes>"
            ]
          },
          "metadata": {
            "tags": []
          }
        }
      ]
    },
    {
      "cell_type": "code",
      "metadata": {
        "id": "YJIx9Z59H-r8"
      },
      "source": [
        ""
      ],
      "execution_count": null,
      "outputs": []
    },
    {
      "cell_type": "markdown",
      "metadata": {
        "id": "kExIOkQnicoZ"
      },
      "source": [
        "#Área de Teste"
      ]
    },
    {
      "cell_type": "code",
      "metadata": {
        "colab": {
          "base_uri": "https://localhost:8080/"
        },
        "id": "UFCtXOOWiE9q",
        "outputId": "ed1e09eb-68b3-4273-d56c-077791f19ae2"
      },
      "source": [
        "!pwd"
      ],
      "execution_count": null,
      "outputs": [
        {
          "output_type": "stream",
          "text": [
            "/content\n"
          ],
          "name": "stdout"
        }
      ]
    },
    {
      "cell_type": "code",
      "metadata": {
        "colab": {
          "base_uri": "https://localhost:8080/",
          "height": 556
        },
        "id": "4eRg9SgHiP3B",
        "outputId": "30e77f57-6ae2-4e34-8ca2-96ed8e8ac6c5"
      },
      "source": [
        "from google.colab import drive\n",
        "drive.mount('/content/drive')"
      ],
      "execution_count": null,
      "outputs": [
        {
          "output_type": "error",
          "ename": "KeyboardInterrupt",
          "evalue": "ignored",
          "traceback": [
            "\u001b[0;31m---------------------------------------------------------------------------\u001b[0m",
            "\u001b[0;31mKeyboardInterrupt\u001b[0m                         Traceback (most recent call last)",
            "\u001b[0;32m/usr/local/lib/python3.7/dist-packages/ipykernel/kernelbase.py\u001b[0m in \u001b[0;36m_input_request\u001b[0;34m(self, prompt, ident, parent, password)\u001b[0m\n\u001b[1;32m    728\u001b[0m             \u001b[0;32mtry\u001b[0m\u001b[0;34m:\u001b[0m\u001b[0;34m\u001b[0m\u001b[0;34m\u001b[0m\u001b[0m\n\u001b[0;32m--> 729\u001b[0;31m                 \u001b[0mident\u001b[0m\u001b[0;34m,\u001b[0m \u001b[0mreply\u001b[0m \u001b[0;34m=\u001b[0m \u001b[0mself\u001b[0m\u001b[0;34m.\u001b[0m\u001b[0msession\u001b[0m\u001b[0;34m.\u001b[0m\u001b[0mrecv\u001b[0m\u001b[0;34m(\u001b[0m\u001b[0mself\u001b[0m\u001b[0;34m.\u001b[0m\u001b[0mstdin_socket\u001b[0m\u001b[0;34m,\u001b[0m \u001b[0;36m0\u001b[0m\u001b[0;34m)\u001b[0m\u001b[0;34m\u001b[0m\u001b[0;34m\u001b[0m\u001b[0m\n\u001b[0m\u001b[1;32m    730\u001b[0m             \u001b[0;32mexcept\u001b[0m \u001b[0mException\u001b[0m\u001b[0;34m:\u001b[0m\u001b[0;34m\u001b[0m\u001b[0;34m\u001b[0m\u001b[0m\n",
            "\u001b[0;32m/usr/local/lib/python3.7/dist-packages/jupyter_client/session.py\u001b[0m in \u001b[0;36mrecv\u001b[0;34m(self, socket, mode, content, copy)\u001b[0m\n\u001b[1;32m    802\u001b[0m         \u001b[0;32mtry\u001b[0m\u001b[0;34m:\u001b[0m\u001b[0;34m\u001b[0m\u001b[0;34m\u001b[0m\u001b[0m\n\u001b[0;32m--> 803\u001b[0;31m             \u001b[0mmsg_list\u001b[0m \u001b[0;34m=\u001b[0m \u001b[0msocket\u001b[0m\u001b[0;34m.\u001b[0m\u001b[0mrecv_multipart\u001b[0m\u001b[0;34m(\u001b[0m\u001b[0mmode\u001b[0m\u001b[0;34m,\u001b[0m \u001b[0mcopy\u001b[0m\u001b[0;34m=\u001b[0m\u001b[0mcopy\u001b[0m\u001b[0;34m)\u001b[0m\u001b[0;34m\u001b[0m\u001b[0;34m\u001b[0m\u001b[0m\n\u001b[0m\u001b[1;32m    804\u001b[0m         \u001b[0;32mexcept\u001b[0m \u001b[0mzmq\u001b[0m\u001b[0;34m.\u001b[0m\u001b[0mZMQError\u001b[0m \u001b[0;32mas\u001b[0m \u001b[0me\u001b[0m\u001b[0;34m:\u001b[0m\u001b[0;34m\u001b[0m\u001b[0;34m\u001b[0m\u001b[0m\n",
            "\u001b[0;32m/usr/local/lib/python3.7/dist-packages/zmq/sugar/socket.py\u001b[0m in \u001b[0;36mrecv_multipart\u001b[0;34m(self, flags, copy, track)\u001b[0m\n\u001b[1;32m    582\u001b[0m         \"\"\"\n\u001b[0;32m--> 583\u001b[0;31m         \u001b[0mparts\u001b[0m \u001b[0;34m=\u001b[0m \u001b[0;34m[\u001b[0m\u001b[0mself\u001b[0m\u001b[0;34m.\u001b[0m\u001b[0mrecv\u001b[0m\u001b[0;34m(\u001b[0m\u001b[0mflags\u001b[0m\u001b[0;34m,\u001b[0m \u001b[0mcopy\u001b[0m\u001b[0;34m=\u001b[0m\u001b[0mcopy\u001b[0m\u001b[0;34m,\u001b[0m \u001b[0mtrack\u001b[0m\u001b[0;34m=\u001b[0m\u001b[0mtrack\u001b[0m\u001b[0;34m)\u001b[0m\u001b[0;34m]\u001b[0m\u001b[0;34m\u001b[0m\u001b[0;34m\u001b[0m\u001b[0m\n\u001b[0m\u001b[1;32m    584\u001b[0m         \u001b[0;31m# have first part already, only loop while more to receive\u001b[0m\u001b[0;34m\u001b[0m\u001b[0;34m\u001b[0m\u001b[0;34m\u001b[0m\u001b[0m\n",
            "\u001b[0;32mzmq/backend/cython/socket.pyx\u001b[0m in \u001b[0;36mzmq.backend.cython.socket.Socket.recv\u001b[0;34m()\u001b[0m\n",
            "\u001b[0;32mzmq/backend/cython/socket.pyx\u001b[0m in \u001b[0;36mzmq.backend.cython.socket.Socket.recv\u001b[0;34m()\u001b[0m\n",
            "\u001b[0;32mzmq/backend/cython/socket.pyx\u001b[0m in \u001b[0;36mzmq.backend.cython.socket._recv_copy\u001b[0;34m()\u001b[0m\n",
            "\u001b[0;32m/usr/local/lib/python3.7/dist-packages/zmq/backend/cython/checkrc.pxd\u001b[0m in \u001b[0;36mzmq.backend.cython.checkrc._check_rc\u001b[0;34m()\u001b[0m\n",
            "\u001b[0;31mKeyboardInterrupt\u001b[0m: ",
            "\nDuring handling of the above exception, another exception occurred:\n",
            "\u001b[0;31mKeyboardInterrupt\u001b[0m                         Traceback (most recent call last)",
            "\u001b[0;32m<ipython-input-24-d5df0069828e>\u001b[0m in \u001b[0;36m<module>\u001b[0;34m()\u001b[0m\n\u001b[1;32m      1\u001b[0m \u001b[0;32mfrom\u001b[0m \u001b[0mgoogle\u001b[0m\u001b[0;34m.\u001b[0m\u001b[0mcolab\u001b[0m \u001b[0;32mimport\u001b[0m \u001b[0mdrive\u001b[0m\u001b[0;34m\u001b[0m\u001b[0;34m\u001b[0m\u001b[0m\n\u001b[0;32m----> 2\u001b[0;31m \u001b[0mdrive\u001b[0m\u001b[0;34m.\u001b[0m\u001b[0mmount\u001b[0m\u001b[0;34m(\u001b[0m\u001b[0;34m'/content/drive'\u001b[0m\u001b[0;34m)\u001b[0m\u001b[0;34m\u001b[0m\u001b[0;34m\u001b[0m\u001b[0m\n\u001b[0m",
            "\u001b[0;32m/usr/local/lib/python3.7/dist-packages/google/colab/drive.py\u001b[0m in \u001b[0;36mmount\u001b[0;34m(mountpoint, force_remount, timeout_ms, use_metadata_server)\u001b[0m\n\u001b[1;32m    258\u001b[0m       \u001b[0;32mwith\u001b[0m \u001b[0m_output\u001b[0m\u001b[0;34m.\u001b[0m\u001b[0muse_tags\u001b[0m\u001b[0;34m(\u001b[0m\u001b[0;34m'dfs-auth-dance'\u001b[0m\u001b[0;34m)\u001b[0m\u001b[0;34m:\u001b[0m\u001b[0;34m\u001b[0m\u001b[0;34m\u001b[0m\u001b[0m\n\u001b[1;32m    259\u001b[0m         \u001b[0;32mwith\u001b[0m \u001b[0mopen\u001b[0m\u001b[0;34m(\u001b[0m\u001b[0mfifo\u001b[0m\u001b[0;34m,\u001b[0m \u001b[0;34m'w'\u001b[0m\u001b[0;34m)\u001b[0m \u001b[0;32mas\u001b[0m \u001b[0mfifo_file\u001b[0m\u001b[0;34m:\u001b[0m\u001b[0;34m\u001b[0m\u001b[0;34m\u001b[0m\u001b[0m\n\u001b[0;32m--> 260\u001b[0;31m           \u001b[0mfifo_file\u001b[0m\u001b[0;34m.\u001b[0m\u001b[0mwrite\u001b[0m\u001b[0;34m(\u001b[0m\u001b[0mget_code\u001b[0m\u001b[0;34m(\u001b[0m\u001b[0mauth_prompt\u001b[0m\u001b[0;34m)\u001b[0m \u001b[0;34m+\u001b[0m \u001b[0;34m'\\n'\u001b[0m\u001b[0;34m)\u001b[0m\u001b[0;34m\u001b[0m\u001b[0;34m\u001b[0m\u001b[0m\n\u001b[0m\u001b[1;32m    261\u001b[0m       \u001b[0mwrote_to_fifo\u001b[0m \u001b[0;34m=\u001b[0m \u001b[0;32mTrue\u001b[0m\u001b[0;34m\u001b[0m\u001b[0;34m\u001b[0m\u001b[0m\n\u001b[1;32m    262\u001b[0m     \u001b[0;32melif\u001b[0m \u001b[0mcase\u001b[0m \u001b[0;34m==\u001b[0m \u001b[0;36m5\u001b[0m\u001b[0;34m:\u001b[0m\u001b[0;34m\u001b[0m\u001b[0;34m\u001b[0m\u001b[0m\n",
            "\u001b[0;32m/usr/local/lib/python3.7/dist-packages/ipykernel/kernelbase.py\u001b[0m in \u001b[0;36mraw_input\u001b[0;34m(self, prompt)\u001b[0m\n\u001b[1;32m    702\u001b[0m             \u001b[0mself\u001b[0m\u001b[0;34m.\u001b[0m\u001b[0m_parent_ident\u001b[0m\u001b[0;34m,\u001b[0m\u001b[0;34m\u001b[0m\u001b[0;34m\u001b[0m\u001b[0m\n\u001b[1;32m    703\u001b[0m             \u001b[0mself\u001b[0m\u001b[0;34m.\u001b[0m\u001b[0m_parent_header\u001b[0m\u001b[0;34m,\u001b[0m\u001b[0;34m\u001b[0m\u001b[0;34m\u001b[0m\u001b[0m\n\u001b[0;32m--> 704\u001b[0;31m             \u001b[0mpassword\u001b[0m\u001b[0;34m=\u001b[0m\u001b[0;32mFalse\u001b[0m\u001b[0;34m,\u001b[0m\u001b[0;34m\u001b[0m\u001b[0;34m\u001b[0m\u001b[0m\n\u001b[0m\u001b[1;32m    705\u001b[0m         )\n\u001b[1;32m    706\u001b[0m \u001b[0;34m\u001b[0m\u001b[0m\n",
            "\u001b[0;32m/usr/local/lib/python3.7/dist-packages/ipykernel/kernelbase.py\u001b[0m in \u001b[0;36m_input_request\u001b[0;34m(self, prompt, ident, parent, password)\u001b[0m\n\u001b[1;32m    732\u001b[0m             \u001b[0;32mexcept\u001b[0m \u001b[0mKeyboardInterrupt\u001b[0m\u001b[0;34m:\u001b[0m\u001b[0;34m\u001b[0m\u001b[0;34m\u001b[0m\u001b[0m\n\u001b[1;32m    733\u001b[0m                 \u001b[0;31m# re-raise KeyboardInterrupt, to truncate traceback\u001b[0m\u001b[0;34m\u001b[0m\u001b[0;34m\u001b[0m\u001b[0;34m\u001b[0m\u001b[0m\n\u001b[0;32m--> 734\u001b[0;31m                 \u001b[0;32mraise\u001b[0m \u001b[0mKeyboardInterrupt\u001b[0m\u001b[0;34m\u001b[0m\u001b[0;34m\u001b[0m\u001b[0m\n\u001b[0m\u001b[1;32m    735\u001b[0m             \u001b[0;32melse\u001b[0m\u001b[0;34m:\u001b[0m\u001b[0;34m\u001b[0m\u001b[0;34m\u001b[0m\u001b[0m\n\u001b[1;32m    736\u001b[0m                 \u001b[0;32mbreak\u001b[0m\u001b[0;34m\u001b[0m\u001b[0;34m\u001b[0m\u001b[0m\n",
            "\u001b[0;31mKeyboardInterrupt\u001b[0m: "
          ]
        }
      ]
    },
    {
      "cell_type": "code",
      "metadata": {
        "id": "wirFo3tVibx-"
      },
      "source": [
        "%cd /content/drive/MyDrive/Colab\\ Notebooks"
      ],
      "execution_count": null,
      "outputs": []
    },
    {
      "cell_type": "code",
      "metadata": {
        "id": "rrWUgFMninzc"
      },
      "source": [
        "!pwd"
      ],
      "execution_count": null,
      "outputs": []
    },
    {
      "cell_type": "code",
      "metadata": {
        "id": "0XoCv_fGi7_g"
      },
      "source": [
        "!ls"
      ],
      "execution_count": null,
      "outputs": []
    },
    {
      "cell_type": "code",
      "metadata": {
        "id": "85qIefCCkUxk"
      },
      "source": [
        "!sudo apt-get update"
      ],
      "execution_count": null,
      "outputs": []
    },
    {
      "cell_type": "code",
      "metadata": {
        "id": "rVKjJF1okaMP"
      },
      "source": [
        "!sudo apt-get upgrade"
      ],
      "execution_count": null,
      "outputs": []
    },
    {
      "cell_type": "code",
      "metadata": {
        "id": "Cc5M8gqIjNdO"
      },
      "source": [
        "!sudo apt-get install texlive-xetex texlive-fonts-recommended texlive-generic-recommended --fix-missing"
      ],
      "execution_count": null,
      "outputs": []
    },
    {
      "cell_type": "code",
      "metadata": {
        "id": "CEaK90dGjiuM"
      },
      "source": [
        "!!jupyter nbconvert --to latex Prob.ipynb"
      ],
      "execution_count": null,
      "outputs": []
    }
  ]
}